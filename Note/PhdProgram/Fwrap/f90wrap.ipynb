{
 "cells": [
  {
   "cell_type": "markdown",
   "metadata": {},
   "source": [
    "# f90wrap: an automated tool for constructing deep Python interfaces to modern Fortran codes "
   ]
  },
  {
   "cell_type": "markdown",
   "metadata": {},
   "source": [
    "## F2PY\n"
   ]
  },
  {
   "cell_type": "markdown",
   "metadata": {},
   "source": [
    "1. declaring compatible data types data types between fortran and python\n",
    "2. ???error: Unable to find vcvarsall.bat\n",
    "3. https://www.youtube.com/watch?v=nqsxjwUmmuA"
   ]
  },
  {
   "cell_type": "markdown",
   "metadata": {},
   "source": [
    "usage\n",
    "\n",
    "1.  Changes to the code : allocation, subroutine , cmmand strings\n",
    "2. f2py -m module_name -h sig_file.pyf \n",
    "list_of_fortran_files\n",
    "3. Edit the signature file\n",
    "4. f2py -c --fcompiler=gnu95 sig_file.pyf list_of_fortran_files\n",
    "\n"
   ]
  },
  {
   "cell_type": "markdown",
   "metadata": {},
   "source": [
    "The drawbacks are due to the fact that there is no way for F2PY to determine the actual intention of the arguments; that is, there is ambiguity in distinguishing between input and output arguments. Consequently, F2PY assumes that all arguments are input arguments by default.\n",
    "\n",
    "next we explore some ways to tell f2py the true intention of function argument\n",
    "\n",
    "https://numpy.org/devdocs/f2py/f2py.getting-started.html\n",
    "\n",
    "conduct wrapping process one by one\n",
    "\n",
    "1. creat signature file \n",
    "\n",
    "    python -m numpy.f2py -m fib1 -h fib1.pyf fib1.f \n",
    "    1.  -m fib1 module name for python\n",
    "    2. -h signature file\n",
    "    3. modify signature file\n",
    "2.  build the extension module\n",
    "\n",
    "    1. python -m numpy.f2py -c fib1.pyf fib1.f\n",
    "\n",
    "3. this approach is suitable for wrapping (e.g. third party) Fortran codes for which modifications to their source codes are not desirable nor even possible.\n",
    "\n",
    "if we can actually modify the source fortran file, we may use F2py directives. A F2PY directive consists of special comment lines (starting with Cf2py or !f2py, for example) which are ignored by Fortran compilers but interpreted by F2PY as normal lines.\n",
    "(in fortran , C is the starting sign for commrnt uh)\n",
    "```\n",
    "C FILE: FIB3.F\n",
    "      SUBROUTINE FIB(A,N)\n",
    "C\n",
    "C     CALCULATE FIRST N FIBONACCI NUMBERS\n",
    "C\n",
    "      INTEGER N\n",
    "      REAL*8 A(N)\n",
    "Cf2py intent(in) n\n",
    "Cf2py intent(out) a\n",
    "Cf2py depend(n) a\n",
    "      DO I=1,N\n",
    "         IF (I.EQ.1) THEN\n",
    "            A(I) = 0.0D0\n",
    "         ELSEIF (I.EQ.2) THEN\n",
    "            A(I) = 1.0D0\n",
    "         ELSE \n",
    "            A(I) = A(I-1) + A(I-2)\n",
    "         ENDIF\n",
    "      ENDDO\n",
    "      END\n",
    "C END FILE FIB3.F\n",
    "```\n",
    "\n",
    "\n",
    "now we knows the basic usage of f2py, we will dig deeper\n",
    "\n",
    "##### Using f2py as a command-line tool\n",
    "three modules distinguished by -c -h\n",
    "###### signature file generation"
   ]
  },
  {
   "cell_type": "markdown",
   "metadata": {},
   "source": [
    "## ASE"
   ]
  },
  {
   "cell_type": "code",
   "execution_count": 2,
   "metadata": {},
   "outputs": [
    {
     "name": "stdout",
     "output_type": "stream",
     "text": [
      "                Step[ FC]     Time          Energy          fmax\n",
      "*Force-consistent energies used in optimization.\n",
      "BFGSLineSearch:    0[  0] 11:48:41       11.689927*       1.0797\n",
      "BFGSLineSearch:    1[  2] 11:48:41       11.670814*       0.4090\n",
      "BFGSLineSearch:    2[  4] 11:48:41       11.625880*       0.0409\n",
      "Adsorption energy: 0.3235194223180411\n"
     ]
    }
   ],
   "source": [
    "!python N2Cu.py"
   ]
  },
  {
   "cell_type": "markdown",
   "metadata": {},
   "source": [
    "## F90Wrap"
   ]
  },
  {
   "cell_type": "markdown",
   "metadata": {},
   "source": [
    "### Intro\n",
    "#### File based interfaces\n",
    "the reliance on file-based interfaces requires substantial time investment to maintain a library of input generators and output parsers\n",
    "#### Deep scripting interfaces\n",
    "Since modern scientific well-organized codes consist of modules and API functions(not for calculation), we may provide deeper wrapping with modular.\n",
    "\n",
    "merits\n",
    "1. middle variable can be called efficiently from memory \n",
    "2. easy to debug\n",
    "3. code bases more sustainable\n"
   ]
  },
  {
   "cell_type": "markdown",
   "metadata": {},
   "source": [
    "### Methodology\n",
    "key steps\n",
    "1. build abstract symbol tree \n",
    "2. remove the not-for-wrap node\n",
    "3. write a more suitable version of each routine \n",
    "4. f2py \n",
    "5. write a object-oriented layer for conversion between python object instances and fortran derived-type \n",
    "\n",
    "### Usage and features\n",
    "\n",
    "1. f90wrap -m Module [F90_Files1,F90_files2...] gives\n",
    "   1. f2py input :f90wrap_F90_FILE.f90 (and f90wrap_toplevel.f90)\n",
    "   2. python package named MODULE\n",
    "2. f2py-f90wrap -c -m _MODULE OBJ_FILES f90wrap_∗.f 90 ∗.o LINK_OPTIONS.\n",
    "    1. present()\n",
    "    2. python runtimeError\n",
    "    3. ctrl+c interrupt handler\n",
    "\n",
    "limitations\n",
    "1. intent(out) $\\to$ intent(inout)\n",
    "2. To have inout scalars, one can call f90wrap with the-default-to-inout flag and declare the Python variables as single-element numpy arrays (using numpy.zeros(1), for example). \n",
    "3. no pointer \n",
    "4. no array of derived types\n",
    "\n"
   ]
  }
 ],
 "metadata": {
  "interpreter": {
   "hash": "0212843a3cc8d89a4510c0cfd867e1040784f30f58482cff34bd5f18a4900130"
  },
  "kernelspec": {
   "display_name": "Python 3.9.10 ('venv')",
   "language": "python",
   "name": "python3"
  },
  "language_info": {
   "codemirror_mode": {
    "name": "ipython",
    "version": 3
   },
   "file_extension": ".py",
   "mimetype": "text/x-python",
   "name": "python",
   "nbconvert_exporter": "python",
   "pygments_lexer": "ipython3",
   "version": "3.9.10"
  },
  "orig_nbformat": 4
 },
 "nbformat": 4,
 "nbformat_minor": 2
}
