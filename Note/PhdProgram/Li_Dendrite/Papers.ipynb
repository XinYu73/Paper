{
 "cells": [
  {
   "cell_type": "markdown",
   "metadata": {},
   "source": [
    "# Reversible epitaxial electrodeposition of metals in battery anodes\n",
    "\n",
    "1. propensity of metal to form irregular electrodeposits $\\to$ inhibition\n",
    "2. an epitaxial mechanism to regulate nucleation of metal anodes\n",
    "3. Zn and Graphene"
   ]
  },
  {
   "cell_type": "markdown",
   "metadata": {},
   "source": [
    "electrodeposition in batteries use active metals like Li, Na, K, Mg, Ca, Zn, Al as anodes.\n",
    "\n",
    "nonuniform electrodeposits $\\to$ active material loss, short circuits with dendritic.\n",
    "\n",
    "epilayer's orientation is relative to the substrate and exhibit low residual stresses.\n",
    "\n",
    "inactive interphase with proper crystal symmetry and lattice parameters can facilitate heteroepitaxial nucleation and the growth of a metal anode. Continuously, a uniform homoepitaxial deposition.\n",
    "\n",
    "key point\n",
    "1.  substrate materials\n",
    "that have crystallographic facets with low lattice mismatch with the metal anode of interest.\n",
    "2. fabrication\n"
   ]
  },
  {
   "cell_type": "markdown",
   "metadata": {},
   "source": [
    "choose Zn as the metal anode so that dentrites can be easily observed.\n",
    "\n",
    "![](../Figure/2.png)"
   ]
  },
  {
   "cell_type": "markdown",
   "metadata": {},
   "source": [
    "Due to lower thermodynamic free energy, Zn tends to deposit on [0002] is hcp $\\to$ candidate substrate should show similar atomic arrangement to [0002].\n",
    "\n",
    "Graphene is chosen and fabricated with shearing methods\n",
    "\n",
    "![](../Figure/3.png)\n",
    "\n",
    "![](../Figure/4.png)"
   ]
  },
  {
   "cell_type": "markdown",
   "metadata": {},
   "source": [
    "On stainless steel , Zn platelets are randomly oriented. Zn deposits\n",
    "formed on graphene are well directed."
   ]
  }
 ],
 "metadata": {
  "interpreter": {
   "hash": "0212843a3cc8d89a4510c0cfd867e1040784f30f58482cff34bd5f18a4900130"
  },
  "kernelspec": {
   "display_name": "Python 3.9.11 ('venv')",
   "language": "python",
   "name": "python3"
  },
  "language_info": {
   "name": "python",
   "version": "3.9.11"
  },
  "orig_nbformat": 4
 },
 "nbformat": 4,
 "nbformat_minor": 2
}
