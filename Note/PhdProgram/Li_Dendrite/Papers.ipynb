{
 "cells": [
  {
   "cell_type": "markdown",
   "metadata": {},
   "source": [
    "# Lithiophilic Sites in Doped Graphene Guide Uniform Lithium Nucleation for Dendrite-Free Lithium Metal Anodes\n",
    "\n",
    "1. some Nitrogen contained functional groups are lithiophilic\n",
    "2. lithiophilic material can guile Li nucleate uniformly on the anode surface."
   ]
  },
  {
   "cell_type": "markdown",
   "metadata": {},
   "source": [
    "#### Li dendrite cause $\\to$\n",
    "1. dead Li $\\to$  capacity lose\n",
    "2. internal short circuit\n",
    "3. ...\n",
    "\n",
    "#### Possible solutions\n",
    "\n",
    "##### electrolyte modifications neglecting the initial nucleation process \n",
    "\n",
    "however, some experimental work show that \n",
    "1. Li nuclei size heavily dependent on current density \n",
    "2. nucleation sites rely on lithiophilic matrix $\\to$ strong binding energy\n",
    "\n",
    "##### $\\to$ high surface area(density)， lithiophilic surface(sites)\n",
    "\n",
    "nitrogen-doped graphene (NG) \n",
    "\n",
    "![Alt text](../Figure/LiDendrite.png)\n",
    "\n",
    "electric field, concentration gradient $\\to$ Li migrate toward anode surface \n",
    "\n",
    "heterogeneous and rough Cu foil surface $\\to$ non-uniform deposition\n",
    "\n",
    "$overpotential_{Li-Li}< overpotential_{Li-Cu}$ $\\to$ dendrite \n",
    "\n",
    "Due to lithiophilic functional groups, uniform nucleation sites smaller overpotential."
   ]
  },
  {
   "cell_type": "markdown",
   "metadata": {},
   "source": [
    "NG functional groups mainly qnN,prN.\n",
    "\n",
    "Based on DFT calculation, compare the binding energy and electron density\n",
    "\n",
    "![Alt text](../Figure/bindingenergy.png)\n",
    "\n",
    "Due to strong binding energy for N and Li, metallic Li atoms on lithiophilic sites\n",
    "\n",
    "![Alt text](../Figure/bindingEnergy2.png)\n",
    "\n",
    "\n",
    "![Alt text](../Figure/Screenshot%202022-03-22%20172232.png)\n",
    "\n",
    "With Much more lower over potential ,Li ions exhibits lower resistance to deposit on electrode surface."
   ]
  },
  {
   "cell_type": "markdown",
   "metadata": {},
   "source": [
    "# Reversible epitaxial electrodeposition of metals in battery anodes\n",
    "\n",
    "1. propensity of metal to form irregular electrodeposits $\\to$ inhibition\n",
    "2. an epitaxial mechanism to regulate nucleation of metal anodes\n",
    "3. Zn and Graphene"
   ]
  },
  {
   "cell_type": "markdown",
   "metadata": {},
   "source": [
    "electrodeposition in batteries use active metals like Li, Na, K, Mg, Ca, Zn, Al as anodes.\n",
    "\n",
    "nonuniform electrodeposits $\\to$ active material loss, short circuits with dendritic.\n",
    "\n",
    "epilayer's orientation is relative to the substrate and exhibit low residual stresses.\n",
    "\n",
    "inactive interphase with proper crystal symmetry and lattice parameters can facilitate heteroepitaxial nucleation and the growth of a metal anode. Continuously, a uniform homoepitaxial deposition.\n",
    "\n",
    "key point\n",
    "1.  substrate materials\n",
    "that have crystallographic facets with low lattice mismatch with the metal anode of interest.\n",
    "2. fabrication\n"
   ]
  },
  {
   "cell_type": "markdown",
   "metadata": {},
   "source": [
    "choose Zn as the metal anode so that dentrites can be easily observed.\n",
    "\n",
    "![](../Figure/2.png)"
   ]
  },
  {
   "cell_type": "markdown",
   "metadata": {},
   "source": [
    "Due to lower thermodynamic free energy, Zn tends to deposit on [0002] is hcp $\\to$ candidate substrate should show similar atomic arrangement to [0002].\n",
    "\n",
    "Graphene is chosen and fabricated with shearing methods\n",
    "\n",
    "![](../Figure/3.png)\n",
    "\n",
    "![](../Figure/4.png)"
   ]
  },
  {
   "cell_type": "markdown",
   "metadata": {},
   "source": [
    "On stainless steel , Zn platelets are randomly oriented. Zn deposits\n",
    "formed on graphene are well directed."
   ]
  }
 ],
 "metadata": {
  "interpreter": {
   "hash": "0212843a3cc8d89a4510c0cfd867e1040784f30f58482cff34bd5f18a4900130"
  },
  "kernelspec": {
   "display_name": "Python 3.9.11 ('venv')",
   "language": "python",
   "name": "python3"
  },
  "language_info": {
   "name": "python",
   "version": "3.9.11"
  },
  "orig_nbformat": 4
 },
 "nbformat": 4,
 "nbformat_minor": 2
}
