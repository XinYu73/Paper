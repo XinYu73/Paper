{
 "cells": [
  {
   "cell_type": "markdown",
   "metadata": {},
   "source": [
    "# *DENSITY FUNCTIONAL THEORY - A Practical Introduction*"
   ]
  },
  {
   "cell_type": "markdown",
   "metadata": {},
   "source": [
    "# What Is Density Functional Theory"
   ]
  },
  {
   "cell_type": "markdown",
   "metadata": {},
   "source": [
    "## The SchroDinger Equation\n",
    "clear, brief, introductory presentation of the most basic equations important for DFT.\n",
    "\n",
    "Given a set of atoms, what is their energy and how the energy varies with configuration of atoms?\n",
    "\n",
    "With Oppenheimer approximation, we first find the lowest energy(ground state) for a fixes positions of atomic nuclei. ground state energy $E = E (R_1, R_2, ...)$ is called adiabatic potential energy surface. If we literally calculate the surface, we solve the second we raised earlier.\n",
    "\n",
    "For multiple electrons, schrodinger equation is\n",
    "$$\n",
    "\\left[\\frac{h^{2}}{2 m} \\sum_{i}^{N} \\nabla_{i}^{2}+\\sum_{i}^{N} V\\left(\\mathbf{r}_{i}\\right)+\\sum_{i}^{N} \\sum_{j<i} U\\left(\\mathbf{r}_{i}, \\mathbf{r}_{j}\\right)\\right] \\psi=E \\psi\n",
    "$$\n",
    "$\\psi = \\psi(r_1, r_2, \\dots)$, the second term above is interaction energy between each electron and the collection of atomic nuclei, the third term is the interaction energy between different electrons.\n",
    "\n",
    "With Hartree product, $\\psi=\\psi_{1}(\\mathbf{r}) \\psi_{2}(\\mathbf{r}), \\ldots, \\psi_{N}(\\mathbf{r})$.  The term in the Hamiltonian defining electron–electron interactions is the most critical one from the point of view of solving the equation. The form of this contribution means that the individual electron wave function we defined above, $\\psi_i(r_i)$, cannot be found without simultaneously considering the individual electron wave functions associated with all the other electrons. In other words, the Schrodinger equation is a many-body problem. \n",
    "\n",
    "Through wave function is the fundamental property of electron, the quantity we can measure is the density of electrons. The factor of 2 appears because electrons have spin and the Pauli exclusion principle states that each individual electron wave function can be occupied by two separate electrons provided they have different spins.\n",
    "$$\n",
    "n(\\mathbf{r})=2 \\sum_{i} \\psi_{i}^{*}(\\mathbf{r}) \\psi_{i}(\\mathbf{r})\n",
    "$$"
   ]
  },
  {
   "cell_type": "markdown",
   "metadata": {},
   "source": [
    "## DENSITY FUNCTIONAL THEORY—FROM WAVE FUNCTIONS TO ELECTRON DENSITY"
   ]
  },
  {
   "cell_type": "markdown",
   "metadata": {},
   "source": [
    "The first theorem proved by Hohenberg and Kohn is : *The ground-state energy from Schrodinger’s equation is a unique functional of the electron density*"
   ]
  },
  {
   "cell_type": "markdown",
   "metadata": {},
   "source": [
    "The second Hohenberg–Kohn theorem defines an important property of the functional: *The electron density that minimizes the energy of the overall functional is the true electron density corresponding to the full solution of the Schrodinger equation*"
   ]
  },
  {
   "cell_type": "markdown",
   "metadata": {},
   "source": [
    "If we have the energy functional form, we can vary the electron density until the energy from the functional is minimized. But what is the functional?????\n",
    "\n",
    "To begin with, we first explore the functional of single electron wave functions $\\psi_i(r_i)$, which collectively define the density.\n",
    "\n",
    "$$\n",
    "\\begin{aligned}\n",
    "E\\left[\\left\\{\\psi_{i}\\right\\}\\right]& =E_{\\mathrm{known}}\\left[\\left\\{\\psi_{i}\\right\\}\\right]+E_{\\mathrm{XC}}\\left[\\left\\{\\psi_{i}\\right\\}\\right]\\\\\n",
    "E_{\\mathrm{known}}\\left[\\left\\{\\psi_{i}\\right\\}\\right]=& \\frac{h^{2}}{m} \\sum_{i} \\int \\psi_{i}^{*} \\nabla^{2} \\psi_{i} d^{3} r+\\int V(\\mathbf{r}) n(\\mathbf{r}) d^{3} r \\\\\n",
    "&+\\frac{e^{2}}{2} \\iint \\frac{n(\\mathbf{r}) n\\left(\\mathbf{r}^{\\prime}\\right)}{\\left|\\mathbf{r} - \\mathbf{r}^{\\prime}\\right|} d^{3} r d^{3} r^{\\prime}+E_{\\mathrm{ion}}\n",
    "\\end{aligned}\n",
    "$$\n",
    "The terms on the right are, in order, the electron kinetic energies, the Coulomb interactions between the electrons and the nuclei, the Coulomb interactions between pairs of electrons, and the Coulomb interactions between pairs of nuclei."
   ]
  },
  {
   "cell_type": "markdown",
   "metadata": {},
   "source": [
    "Kohn and Sham proposed that the task of finding the right electron density can be expressed in a way that involves solving a set of equations in which each equation only involves a single electron. The Kohn–Sham equations have the form:\n",
    "$$\n",
    "\\left[\\frac{h^{2}}{2 m} \\nabla^{2}+V(\\mathbf{r})+V_{H}(\\mathbf{r})+V_{\\mathrm{XC}}(\\mathbf{r})\\right] \\psi_{i}(\\mathbf{r})=\\varepsilon_{i} \\psi_{i}(\\mathbf{r})\n",
    "$$\n"
   ]
  },
  {
   "cell_type": "markdown",
   "metadata": {},
   "source": [
    "Hartree potential\n",
    "$$\n",
    "V_{H}(\\mathbf{r})=e^{2} \\int \\frac{n\\left(\\mathbf{r}^{\\prime}\\right)}{\\left|\\mathbf{r} - \\mathbf{r}^{\\prime}\\right|} d^{3} r^{\\prime}\n",
    "$$\n",
    "This potential describes the Coulomb repulsion between the electron being considered in one of the Kohn–Sham equations and the total electron density defined by all electrons in the problem. The Hartree potential includes a so-called self-interaction contribution because the electron we are describing in the Kohn–Sham equation is also part of the total electron density. The correction of this is lumped into $V_{XC} = \\frac{\\delta E_{XC}}{\\delta n}$"
   ]
  },
  {
   "cell_type": "markdown",
   "metadata": {},
   "source": [
    "To solve this circular equations\n",
    "1. Define an initial, trial electron density, $n(\\mathbf{r})$.\n",
    "2. Solve the Kohn-Sham equations defined using the trial electron density to find the single-particle wave functions, $\\psi_{i}(\\mathbf{r})$.\n",
    "3. Calculate the electron density defined by the Kohn-Sham single particle wave functions from step $2, n_{\\mathrm{KS}}(\\mathbf{r})=2 \\sum_{i} \\psi_{i}^{*}(\\mathbf{r}) \\psi_{i}(\\mathbf{r})$.\n",
    "4. Compare the calculated electron density, $n_{\\mathrm{KS}}(\\mathbf{r})$, with the electron density used in solving the Kohn-Sham equations, $n(\\mathbf{r})$. If the two densities are the same, then this is the ground-state electron density, and it can be used to compute the total energy. If the two densities are different, then the trial electron density must be updated in some way. Once this is done, the process begins again from step $2 .$"
   ]
  },
  {
   "cell_type": "markdown",
   "metadata": {},
   "source": [
    "## EXCHANGE–CORRELATION FUNCTIONAL"
   ]
  },
  {
   "cell_type": "markdown",
   "metadata": {},
   "source": [
    "The true form of the exchange–correlation functional whose existence is guaranteed by the Hohenberg–Kohn theorem is simply not known.\n",
    "\n",
    "1. In case of uniform electron gas, the functional can be derived exactly $n_(\\mathbf{r}) = constant$. This approximation uses only the local density to define XC functional, so it's called LDA(local density approximation)\n",
    "2. Comprised of local electron density and the local gradient in the electron density, this approach is called generalized gradient approximation(GGA)."
   ]
  },
  {
   "cell_type": "markdown",
   "metadata": {},
   "source": [
    "## THE QUANTUM CHEMISTRY TOURIST"
   ]
  },
  {
   "cell_type": "markdown",
   "metadata": {},
   "source": [
    "### Localized and Spatially Extended Functions \n",
    "### Wave-Function-Based Methods"
   ]
  },
  {
   "cell_type": "markdown",
   "metadata": {},
   "source": [
    "### Hartree - Fock Method\n",
    "a approximating wave function based method.\n",
    "\n",
    "If we assume that electrons have no effect on each other, $H = \\sum \\limits ^{N} _{i=1} h_i$.\n",
    "The eigenstates found by this equation are spin orbitals. Each single-electron equation gives multiple eigenfunctions which defines a set $\\chi_j (x_i)$ ,$x_i$ defines the position and spin of i th electron. The whole system is described by \n",
    "\n",
    "$$\n",
    "\\psi\\left(\\mathbf{x}_{1}, \\ldots, \\mathbf{x}_{N}\\right)=\\chi_{j_{1}}\\left(\\mathbf{x}_{1}\\right) \\chi_{j_{2}}\\left(\\mathbf{x}_{2}\\right) \\cdots \\chi_{j_{N}}\\left(\\mathbf{x}_{N}\\right)\n",
    "$$\n",
    "$$\n",
    "E = E_{j_1}+\\dots +E_{j_N}\n",
    "$$\n",
    "However, real electrons have properties as the anti-symmetry principle and so on. To deal with the anti-symmetry principle, we express $|\\psi \\rangle$ with determinant ,for two electrons\n",
    "$$\n",
    "\\begin{aligned}\n",
    "\\psi\\left(\\mathbf{x}_{1}, \\mathbf{x}_{2}\\right) &=\\frac{1}{\\sqrt{2}} \\operatorname{det}\\left[\\begin{array}{ll}\n",
    "\\chi_{j}\\left(\\mathbf{x}_{1}\\right) & \\chi_{j}\\left(\\mathbf{x}_{2}\\right) \\\\\n",
    "\\chi_{k}\\left(\\mathbf{x}_{1}\\right) & \\chi_{k}\\left(\\mathbf{x}_{1}\\right)\n",
    "\\end{array}\\right] \\\\\n",
    "&=\\frac{1}{\\sqrt{2}}\\left[\\chi_{j}\\left(\\mathbf{x}_{1}\\right) \\chi_{k}\\left(\\mathbf{x}_{1}\\right) \\quad \\chi_{j}\\left(\\mathbf{x}_{2}\\right) \\chi_{k}\\left(\\mathbf{x}_{1}\\right)\\right]\n",
    "\\end{aligned}\n",
    "$$\n",
    "The S-eq for each electron is \n",
    "$$\n",
    "\\left[\\frac{h^{2}}{2 m} \\nabla^{2}+V(\\mathbf{r})+V_{H}(\\mathbf{r})\\right] \\chi_{j}(\\mathbf{x})=E_{j} \\chi_{j}(\\mathbf{x})\n",
    "$$\n",
    "With $V_{H}$, a single electron \"feels\" the effect of other electrons as an average.\n",
    "\n",
    "### Beyond Hartree-Fock"
   ]
  },
  {
   "cell_type": "markdown",
   "metadata": {},
   "source": [
    "# DFT CALCULATIONS FOR SIMPLE SOLIDS \n",
    "\n",
    "To be precise, the preferred crystal structure is the one with the lowest Gibbs free energy\n",
    "$$\n",
    "G(P,T) = E_{coh} + PV - TS\n",
    "$$\n",
    "\n",
    "If we are comparing two possible crystal structures, then we are interested in the change in Gibbs free energy between the two structures. In solids, the $T\\delta S$ term tends to be much smaller, so we often neglect it."
   ]
  },
  {
   "cell_type": "markdown",
   "metadata": {},
   "source": [
    "# NUTS AND BOLTS OF DFT CALCULATIONS "
   ]
  },
  {
   "cell_type": "markdown",
   "metadata": {},
   "source": [
    "## RECIPROCAL SPACE AND k POINTS "
   ]
  },
  {
   "cell_type": "markdown",
   "metadata": {},
   "source": [
    "### Plane Waves and the Brillouin Zone\n",
    "Several points in the Brillouin zone with special significance are given individual names.s. The most important of these is the point where k = 0; this location in k space is called the $\\Gamma $ point.\n",
    "### Integrals in k space \n",
    "$$\n",
    "g=\\frac{V_{\\text {cell }}}{(2 \\pi)^{3}} \\int_{\\mathrm{BZ}} g(\\mathbf{k}) d \\mathbf{k}\n",
    "$$\n",
    "Integrate over all possible values of k in BZ. \n",
    "1. Integrals can be approximated by evaluating the function to be integrated at a set of discrete points and summing the function values with appropriate weighting for each point. \n",
    "2. Well-behaved numerical methods of this type will give more accurate results as the number of discrete points used in the sum is made larger. In the limit of using a very large number of points, these numerical methods converge to the exact result for the integral. \n",
    "3. Different choices for the placement and weighting of the functional evaluations can give dramatic differences in the rate the numerical methods converge to the exact integral. \n",
    "### Choosing k points in the BZ\n",
    "how to choose the k points?\n",
    "\n",
    "most widely used solution is developed by Monkhorst and Pack. When use the this method, we simply set how many k points chosen in each direction, if we choose M, then calculation uses $M^3$ k points.\n",
    "\n",
    "![Alt text](Figure\\1.png)"
   ]
  },
  {
   "cell_type": "markdown",
   "metadata": {},
   "source": [
    "if M is an odd number, then the amount of time taken for the calculations with either M or (M + 1) was close to the same. Why?\n",
    "\n",
    "Because that calculation takes advantages of symmetries, only part of the k point is actually needed to be calculated. $\\to $ irreducible Brillouin zone \n",
    "### Metals—Special Cases in k Space\n",
    "In a metal the Brillouin zone can be divided into regions that are occupied and unoccupied by electrons. From the point of view of calcu-lating integrals in k space, this is a significant complication because the func-tions that are integrated change discontinuously from nonzero values to zero at the Fermi surface. To have a well converged result\n",
    "1. use a huge amount of k points\n",
    "2. tetrahedron method\n",
    "    \n",
    "   The idea behind this method is to use the discrete set of k points to define a set of tetrahedra that fill reciprocal \n",
    "   space and to define the function being integrated at every point in a tetrahedron using interpolation.\n",
    "3. smearing methods\n",
    "\n",
    "   The idea of these methods is to force the function being integrated to be continuous by “smearing” out the discontinuity. For example\n",
    "   $$\n",
    "   f\\left(\\frac{k \\quad k_{0}}{\\sigma}\\right)=\\left[\\exp \\left(\\frac{k \\quad k_{0}}{\\sigma}\\right)+1\\right]\n",
    "   $$\n"
   ]
  }
 ],
 "metadata": {
  "interpreter": {
   "hash": "dc2fb9337a1a0652f081db37d74d2a304a649cf24a6ef5a9e82a4cf63842a9c0"
  },
  "kernelspec": {
   "display_name": "Python 3.9.9 64-bit (system)",
   "language": "python",
   "name": "python3"
  },
  "language_info": {
   "name": "python",
   "version": "3.9.9"
  },
  "orig_nbformat": 4
 },
 "nbformat": 4,
 "nbformat_minor": 2
}
