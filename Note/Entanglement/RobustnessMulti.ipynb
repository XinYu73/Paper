{
 "cells": [
  {
   "cell_type": "markdown",
   "metadata": {},
   "source": [
    "# Robustness of Multi-Party Entanglement "
   ]
  },
  {
   "cell_type": "markdown",
   "metadata": {},
   "source": [
    "Are there natural systems that contain substantial large-scale entanglement between their constituents?\n",
    "\n",
    "1. entanglement seems to be very fragile under decoherence, which is emphasized by the difficulty of building a quantum computer.\n",
    "2. measure-theoretic considerations suggest that the set of inseparable states is much larger than the set of separable ones , which seems to imply that entanglement should be relatively common"
   ]
  },
  {
   "cell_type": "markdown",
   "metadata": {},
   "source": [
    "The partially depolarizing channel $C_{d}$ is defined by applying the completely depolarizing channel with a probability $d$, and applying the identity transformation with a probability $1-d$. This corresponds to the transformation\n",
    "$$\n",
    "|i\\rangle\\langle j|\\longrightarrow(1-d)| i\\rangle\\langle j|+d \\delta_{i j} \\frac{1}{2} \\mathbb{1} \n",
    "$$"
   ]
  },
  {
   "cell_type": "markdown",
   "metadata": {},
   "source": [
    "For convenience, we define \n",
    "\n",
    "$P_0 = |0\\rangle\\langle 0|, P_1 = |1\\rangle \\langle 1 |, \\sigma_{+} = |0 \\rangle \\langle 1 |, \\sigma_{-} = |1\\rangle \\langle 0 |$\n",
    "\n",
    "For partially depolarizing channel\n",
    "$$\n",
    "\\begin{aligned}\n",
    "P_{0,1} & \\longrightarrow \\frac{1+s}{2} P_{0,1}+\\frac{1-s}{2} P_{1,0} \\\\\n",
    "\\sigma_{+,-} & \\longrightarrow s \\sigma_{+,-}\\\\\n",
    "s & = 1 - d\n",
    "\\end{aligned}\n",
    "$$\n",
    "\n",
    "For GHZ state\n",
    "\\begin{equation*}\n",
    "\\rho=\\frac{1}{2}\\left(P_{0}^{\\otimes n}+P_{1}^{\\otimes n}+\\sigma_{+}^{\\otimes n}+\\sigma_{-}^{\\otimes n}\\right)\n",
    "\\end{equation*}\n",
    "\n",
    "Due to the application of the channel, \n",
    "1. the off diagonal terms $\\sigma_{+, -}^{\\otimes n}$ is multiplied by $s^n$.\n",
    "2. the diagonal terms $P_{0, 1}^{\\otimes n}$ are converted to polynomials of $P_{0}^{\\otimes k} \\otimes P_{1}^{\\otimes(n-k)}$ with following coefs of $k \\in [0,n]$\n",
    "\\begin{equation*}\n",
    "\\lambda_{k}=\\frac{1}{2}\\left[\\left(\\frac{1+s}{2}\\right)^{k}\\left(\\frac{1-s}{2}\\right)^{n-k}+\\left(\\frac{1+s}{2}\\right)^{n-k}\\left(\\frac{1-s}{2}\\right)^{k}\\right]\n",
    "\\end{equation*}\n"
   ]
  }
 ],
 "metadata": {
  "language_info": {
   "name": "python"
  },
  "orig_nbformat": 4
 },
 "nbformat": 4,
 "nbformat_minor": 2
}
