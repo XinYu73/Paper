{
 "cells": [
  {
   "cell_type": "markdown",
   "metadata": {},
   "source": [
    "# 11180708 忻宇"
   ]
  },
  {
   "cell_type": "markdown",
   "metadata": {},
   "source": [
    "# Paper"
   ]
  },
  {
   "cell_type": "markdown",
   "metadata": {},
   "source": [
    "## Symmetric three-qubit-state invariants\n",
    "In this paper, the restriction to completely symmetric states is used to simplify the calculation of three-qubit local unitary (LU) invariants.Polynomial invariants of a multiqubit state are not limited to entanglement monotones.\n",
    "\n",
    "### polynomial invariants\n",
    "\n",
    "The set chosen is $\\left\\{\\mathcal{C}_{1,2}, \\mathcal{C}_{2,3}, \\mathcal{C}_{3,1}, \\tau, \\kappa\\right\\}$\n",
    "\n",
    "### SYMMETRIC THREE-QUBIT STATES\n",
    "\n",
    "For symmetric three-qubits states the set reduced to $\\{ C,\\tau,\\kappa\\}$.\n",
    "The most natural representation of an 3-qubit symmetric state is as following which contains six parameters.\n",
    "$$\n",
    "|\\psi\\rangle=\\sum_{i=0}^{3} a_{i}\\left|S_{i}^{(3)}\\right\\rangle\n",
    "$$\n",
    "To represent the states in a simple and canonical form \n",
    "$$\n",
    "\\left|\\psi^{\\prime}\\right\\rangle=A\\left(|000\\rangle+y e^{i \\phi}|\\theta\\rangle^{\\otimes 3}\\right)\n",
    "$$\n",
    "\n",
    "For stats of Majorana root of degree 2 ,we have \n",
    "$$\n",
    "|\\psi\\rangle=\\frac{1}{A} \\sum_{\\pi \\in S_{3}} \\pi(|0\\rangle \\otimes|0\\rangle \\otimes|0\\rangle)\n",
    "$$"
   ]
  },
  {
   "cell_type": "markdown",
   "metadata": {},
   "source": [
    "## Speed of disentanglement in multiqubit systems under a depolarizing channel \n",
    "\n",
    "### Definitions and general formulas \n",
    "#### Decoherence model \n",
    "$$\n",
    "\\rho_i(t) = \\sum_{j=0}^{M} E_{j i} \\rho_{i}(0) E_{j i}^{\\dagger} = \\frac{1}{2}(I+s \\mathbf{r} \\cdot \\boldsymbol{\\sigma})\n",
    "$$\n",
    "$s = 1- p$ ,set $s = e^{-t}$ as depolarization parameter.\n",
    "    \n",
    "####  Entanglement measurements and invariants\n",
    "we chose concurrence and negativity for bipartition entanglement, and the entanglement for three-qubit pure states.The entanglement invariants of three-qubit pure states are five linear independent polynomials:($\\rho_i = Tr_{jk}\\rho,\\rho_{ij} = Tr_k{\\rho}$)\n",
    "$$\n",
    "\\begin{aligned}\n",
    "&\\boldsymbol{\\mathcal { L }}_{i}=\\operatorname{Tr} \\rho_{i}^{2}=1-\\frac{\\mathcal{N}_{i}^{2}}{2} \\\\\n",
    "&\\boldsymbol{\\mathcal { L }}_{4}=3 \\operatorname{Tr}\\left[\\left(\\rho_{i} \\otimes \\rho_{j}\\right) \\rho_{i j}\\right]-\\operatorname{Tr} \\rho_{i}^{3}-\\operatorname{Tr} \\rho_{j}^{3} \\\\\n",
    "&\\boldsymbol{\\mathcal { L }}_{5}=\\tau^{2}=\\left(\\mathcal{N}_{i}^{2}-\\boldsymbol{C}_{i j}^{2}-\\boldsymbol{C}_{i k}^{2}\\right)^{2}\n",
    "\\end{aligned}\n",
    "$$\n",
    "####  SoDE and the perturbation approach \n",
    "SoDE(Speed of disentanglement): the linear response of the entanglement under an infinitesimal noise.As for negativity we have \n",
    "$$\n",
    "\\eta_{i}(\\rho)=\\left|\\frac{d \\mathcal{N}_{i}\\left(\\rho_{s}\\right)}{d t}\\right|_{t=0}\\cdots\\cdots(t=0 \\rightarrow p = 0)\n",
    "$$\n",
    "### Two-qubit arbitrary states \n",
    "#### Pure states\n",
    "For $|\\Psi(\\theta)\\rangle = \\cos{\\theta}|00\\rangle + \\sin{\\theta}|11\\rangle$,$\\eta = 2\\mathcal{N} +1$\n",
    "#### Frontier states \n",
    "For arbitrary two qubits states,the relation between SoDE and their entanglement properties is hard to describe,thus we work on the bounds and frontier states of a given $\\mathcal{N}$.\n",
    "\n",
    "1. pure states mentioned above is the upper frontier stats(for a given $\\mathcal{N}$,the state have the maximum of SoDE)\n",
    "2. By utilizing the ansatz states(coefs : x,y,a,b,$\\gamma$),we find the lower bound state when $x=y=b=0$ , or describe with the pure states:\n",
    "$$\n",
    "\\rho_{m}=\\gamma|\\psi(\\pi / 4)\\rangle\\langle\\psi(\\pi / 4)|+(1-\\gamma)| 01\\rangle\\langle 01|\n",
    "$$\n",
    "3. For a given $\\mathcal{N}$\n",
    "$$\n",
    "\\frac{\\mathcal{N}^{2}+\\sqrt{2 \\cdot \\mathcal{N}(\\mathcal{N}+1)}}{1+2 \\cdot \\mathcal{N}-\\sqrt{2 \\cdot \\mathcal{N}(\\mathcal{N}+1)}} \\leq \\eta \\leq 2 \\cdot \\mathcal{N}+1\n",
    "$$"
   ]
  },
  {
   "cell_type": "markdown",
   "metadata": {},
   "source": [
    "### Three-qubit pure states \n",
    "#### Symmetrical states \n",
    "$$\n",
    "|\\Phi\\rangle=t_{1}|000\\rangle+t_{2}|W\\rangle+t_{3}\\left|W^{\\prime}\\right\\rangle+t_{4}|111\\rangle\n",
    "$$\n",
    "note that $\\mathcal { L }_1 = \\mathcal { L }_2 = \\mathcal { L }_3 = 1 - \\frac{\\mathcal{N}^2}{2}$.\n",
    "\n",
    "As in arbitrary two qubits,we find the frontier states\n",
    "$$\n",
    "\\begin{aligned}\n",
    "&|G\\rangle=\\sqrt{a}|000\\rangle+\\sqrt{1-a}|111\\rangle \\\\\n",
    "&|J\\rangle=\\sqrt{b}|\\mathrm{~W}\\rangle+\\sqrt{1-b}|111\\rangle\n",
    "\\end{aligned}\n",
    "$$\n",
    "$$\n",
    "\\eta=\\frac{32-32 \\boldsymbol{\\mathcal{L}}_{4}-12 \\cdot \\mathcal{N}^{2}+84 \\cdot \\mathcal{N}^{3}+69 \\cdot \\mathcal{N}^{4}+3 \\tau^{2}}{24 \\cdot \\mathcal{N}^{2}(\\mathcal{N}+1)}\n",
    "$$\n",
    "Since bigger the $\\eta$,more fragile the state,for a given states $\\tau$ enhance $\\eta$,while $\\mathcal{L}_4$ decrease $\\eta$ ,therefore it is $\\mathcal{L}_4$ that makes GHZ the most robust symmetric pure states.\n"
   ]
  },
  {
   "cell_type": "code",
   "execution_count": 1,
   "metadata": {},
   "outputs": [
    {
     "data": {
      "text/plain": [
       "Text(0, 0.5, '$\\\\eta$')"
      ]
     },
     "execution_count": 1,
     "metadata": {},
     "output_type": "execute_result"
    },
    {
     "data": {
      "image/png": "[encoded data removed]",
      "text/plain": [
       "<Figure size 432x288 with 1 Axes>"
      ]
     },
     "metadata": {
      "needs_background": "light"
     },
     "output_type": "display_data"
    }
   ],
   "source": [
    "import matplotlib.pyplot as plt\n",
    "import numpy as np\n",
    "plt.figure()\n",
    "plt.plot(np.linspace(0,1,100),np.linspace(0,1,100)*3 + 1/2)\n",
    "plt.plot(np.linspace(0,1,100),np.linspace(0,1,100)*5/2+1 )\n",
    "plt.legend([r\"$|G\\rangle$\",r\"$|J\\rangle$\"])\n",
    "plt.xlabel(r\"$\\mathcal{N}$\")\n",
    "plt.ylabel(r\"$\\eta$\")"
   ]
  },
  {
   "cell_type": "markdown",
   "metadata": {},
   "source": [
    "## Residual effect on the robustness of multiqubit entanglement "
   ]
  },
  {
   "cell_type": "markdown",
   "metadata": {},
   "source": [
    "### introduction"
   ]
  },
  {
   "cell_type": "markdown",
   "metadata": {},
   "source": [
    "# Draft"
   ]
  },
  {
   "cell_type": "markdown",
   "metadata": {},
   "source": [
    "02/07\n",
    "1. PSO 精炼修改\n",
    "2. Breamer "
   ]
  },
  {
   "cell_type": "markdown",
   "metadata": {},
   "source": [
    "### 态空间\n",
    "讨论三比特轮回对称态所张开的空间,为了方便解析,我们引用$Symmetric three-qubit-state invariants$文章中提到的两个态即$\\left|\\psi^{\\prime}\\right\\rangle=A\\left(|000\\rangle+y e^{i \\phi}|\\theta\\rangle^{\\otimes 3}\\right)$和$|\\psi\\rangle=\\frac{1}{A} \\sum_{\\pi \\in S_{3}} \\pi(|0\\rangle \\otimes|0\\rangle \\otimes|0\\rangle)$.第一个态将全部有$\\tau$态所涵盖，第二个态将所有无$\\tau$的态概括。我们在讨论边界态时，例如上界态，先找到两种态的各自的最robust的态，再相互比较，最终确定三比特轮换对称态所张开空间的边界态。\n",
    "### 边界态($N_0$视角)\n",
    "$$\\tau = N_0^2 \\frac{1-t^2}{1+t^2}\\cdots(t = \\cos{\\frac{\\theta}{2}})$$\n",
    "根据上式，我们认为每个$N_0$组别的态的强弱取决于$\\tau$的大小\n",
    "1. $N_0>\\frac{2\\sqrt{2}}{3}$ 这个子空间的态只有Symmetric文章中的第一种态，因而不用考虑第二种.$\\tau_{max}$ 对应$|GHZ-Like\\rangle$,$\\tau_{min}$ 对应$|W111\\rangle$\n",
    "2. $N_0<\\frac{2\\sqrt{2}}{3}$ 该子空间中Symmetric的两种态都存在,因此我们需要分别讨论，对第一种态,$\\tau_{max}$ 对应$|GHZ-Like\\rangle$,$\\tau_{min}\\rightarrow 0 $,第二种态的$\\tau_{min}=\\tau_{max}=0$,根据我们的假设$|W000\\rangle$是最弱的态.\n",
    "\n",
    "经过如上猜测，我们用haar测度生成大量随机态，对比我们找到的三个特殊态，发现\n",
    "1. $\\tau$的边界态完全正确\n",
    "2. $Negativity,Witness$除了$N_0< \\frac{2\\sqrt{2}}{3}$的下界外均正确。\n",
    "3. $Concurrence$除了$N_0< \\frac{2\\sqrt{2}}{3}$的上界外均正确。\n",
    "4. W000虽然是三比特轮回对称态所张开的空间中$\\tau$最小的态，但并不是$Negativity,Witness,Concurrence$的边界态\n",
    "5. 上面根据$tau$判断态robustness的理论有局限性,我们需要新的方法\n",
    "6. $N_0< \\frac{2\\sqrt{2}}{3}$的子空间中，由于W000的P总是分布为所取随机态的P所覆盖(scatter plot)，因为Symmetric文章中的第二种态不会是边界态，我们在新方法的讨论中便不需要再讨论\n",
    "   \n",
    "上述猜测中，对每个$N_0$组别，我们仅考虑了$\\tau$对robustness的影响，或者说仅考虑了$\\theta$的影响,这陷入是不全面的，就好像原子物理中仅考虑了库伦作用而忽略了自旋轨道耦合。由于$N=N(\\theta,\\phi,y)$,我们增加一个自由度$\\theta,\\phi$,那么对每个$N_0$组别我们只需要在$\\theta,\\phi$所张开的空间中寻找边界态,为此我们引入$PSO$，作为我们的探索工具."
   ]
  },
  {
   "cell_type": "markdown",
   "metadata": {},
   "source": [
    "### $\\eta$\n",
    "对三比特轮换对称态,$\\eta = \\frac{d \\mathcal{N}}{d t}_{t = 0}$如下式($t = 0 \\rightarrow p = 0$,也就是$N \\sim p$在$p=0$时的导数),式中$\\mathcal{L}$的计算调用闫学长matlab的程序\n",
    "$$\n",
    "\\eta=\\frac{32-32 \\boldsymbol{\\mathcal{L}}_{4}-12 \\cdot \\mathcal{N}^{2}+84 \\cdot \\mathcal{N}^{3}+69 \\cdot \\mathcal{N}^{4}+3 \\tau^{2}}{24 \\cdot \\mathcal{N}^{2}(\\mathcal{N}+1)}\n",
    "$$\n",
    "经过初步计算，程序和文中所给$|W111\\rangle$的$\\eta$ 结果一致,接着模拟不同$N_0$组别下 $p_N \\sim \\eta$的关系,选取$N_0 = 0.5,0.95$,根据图像\n",
    "1. $\\eta_{min}$的区域,两组别都呈线性分布, $\\eta$ 最小的态对应GHZ-like,符合预期\n",
    "2. $N_0 = 0.5$组别$\\eta_{max}$的区域也呈线性\n",
    "\n",
    "    说明$\\eta$最大的态只有W111的轮换对称态且同样的$\\eta$对应同样的$p_N$\n",
    "    \n",
    "    也就是我们之前求得的$(t_,1)$态\n",
    "    \n",
    "    这样看PSO并无必要性,也就无法引出PSO\n",
    "3. $N_0 = 0.95$组别$\\eta_{max}$的区域呈带状\n",
    "   \n",
    "   同样的$\\eta$抗噪能力不同,这是我们期待的,\n",
    "   \n",
    "   因为$N_0 > \\sqrt{8/9}$区间$p_{|W111\\rangle}$就是两条线,\n",
    "   \n",
    "   对应$|W\\rangle$的占比大于或者小于$\\sqrt{3/4}$.\n",
    "   \n",
    "   这里的问题在于我们不好说明$|W111\\rangle$是这一$N_0$区间的下界.\n",
    "   \n",
    "还有一个问题在于$\\eta = \\frac{d \\mathcal{N}}{d t}_{t = 0}$,在文章中也提到了$\\eta^{C}$来讨论Concurrence的衡量的robustness,我们是否也应采用.\n"
   ]
  }
 ],
 "metadata": {
  "interpreter": {
   "hash": "11ab5ce950c10fdc062b286d1f90193a2aac54659e25702ca4efbabbd0c4322f"
  },
  "kernelspec": {
   "display_name": "Python 3.9.7 64-bit (system)",
   "language": "python",
   "name": "python3"
  },
  "language_info": {
   "codemirror_mode": {
    "name": "ipython",
    "version": 3
   },
   "file_extension": ".py",
   "mimetype": "text/x-python",
   "name": "python",
   "nbconvert_exporter": "python",
   "pygments_lexer": "ipython3",
   "version": "3.9.9"
  },
  "orig_nbformat": 4
 },
 "nbformat": 4,
 "nbformat_minor": 2
}
