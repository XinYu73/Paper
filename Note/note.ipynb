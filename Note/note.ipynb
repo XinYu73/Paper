{
 "cells": [
  {
   "cell_type": "markdown",
   "metadata": {},
   "source": [
    "# **杂记**"
   ]
  },
  {
   "cell_type": "markdown",
   "metadata": {},
   "source": [
    "### SunLogin\n",
    "1. 203吕建老师电脑 639 438 534;ww0IIM\n",
    "2. 307赵老师电脑 630 403 443;84611r\n",
    "3. 自己电脑 "
   ]
  },
  {
   "cell_type": "markdown",
   "metadata": {},
   "source": [
    "### Zotero文件夹路径\n",
    "1. Base ：C:\\Papers\\LinkedAttachments\n",
    "2. Data ：C:\\Papers\\DataDirectory"
   ]
  }
 ],
 "metadata": {
  "language_info": {
   "name": "python"
  },
  "orig_nbformat": 4
 },
 "nbformat": 4,
 "nbformat_minor": 2
}
