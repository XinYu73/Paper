{
 "cells": [
  {
   "cell_type": "markdown",
   "metadata": {},
   "source": [
    "# *ATLAS: A real-space finite-difference implementation of orbital-free density functional theory*"
   ]
  },
  {
   "cell_type": "markdown",
   "metadata": {},
   "source": [
    "## Introduction\n",
    "### Computational method :\n",
    "1. quantum-mechanical\n",
    "2. empirical potential methods\n",
    "\n",
    "Quantum mechanical methods based on the Kohn-Sham density functional theory, which require evaluation of the kinetic energy term related to single-electron wave functions. The cost of calculation of electron density scales as cubic relation of the total number of electrons of the system.\n",
    "\n",
    "### Approaches to reduce the computational cost:\n",
    "1. based on nearsightedness and locality $\\rightarrow$ linear scaling $\\rightarrow$ suitable for band-gap structure or localized electronic structure.\n",
    "2. based on empirical interatomic potentials $\\rightarrow$ neglect the properties of electrons $\\rightarrow$ inaccurate and unreliable.\n",
    "3. OF-DFT\n",
    "   1. Advantages:\n",
    "      1. total energy os expressed as an explicit functional of electron density in the Hohenberg–Kohn theorem\n",
    "      2. no need to deal with wave function\n",
    "      3. computational cost  scaled quasi-linearly with the number of atoms on the system\n",
    "   2. Drawbacks:\n",
    "      1. the construction of kinetic energy functional(KEDF) \n",
    "      2. Orbital free $\\rightarrow$ ion-electron interaction can only be described by the local  pseudopotentials (LPPs)\n",
    "         1. existing LPPS: empirical and bulk derived\n",
    "         2. challenge : build LPP from existing non-LPP \n",
    "\n",
    "### Ground state energy $E_{min}$\n",
    "\\begin{equation}\n",
    "E_{\\min }=\\min _{\\rho}\\left\\{E[\\rho]-\\mu\\left(\\int_{\\Omega} \\rho(\\boldsymbol{r}) d \\boldsymbol{r}-N_{e}\\right) ; \\rho \\geq 0\\right\\}\n",
    "\\end{equation}\n",
    "Two prevalent methods to solve equation above:\n",
    "1. seek direct solution\n",
    "2. transform equation above to KS-like equation then solve it by standard KS-program\n"
   ]
  },
  {
   "cell_type": "markdown",
   "metadata": {},
   "source": [
    "## Theory and background\n",
    "### OF_DFT \n",
    "Total energy functional:\n",
    "$$\n",
    "E^{O F}[\\rho]= T[\\rho]+E_{H}[\\rho]+E_{X C}[\\rho]+\\int V_{e x t}(\\boldsymbol{r}) \\rho(\\boldsymbol{r}) d \\boldsymbol{r} +E_{i-i}\\left(\\left\\{\\boldsymbol{R}_{i}\\right\\}\\right)\n",
    "$$\n",
    "$E_{H}$ is the Hartree repulsion energy, $E_{XC}$ is the exchange-correlation energy. $V_{ext}$ is external potential representing ion-electron interaction given by local pseudopotential ,$E_{i-i}$ is interaction energy between ions.In our frame ,$ T[\\rho]$ is decomposed into:\n",
    "$$\n",
    "\\begin{aligned}\n",
    "T[\\rho] &= \\lambda T_{vW}[\\rho] + T_{\\theta}[\\rho]\\\\\n",
    "\\frac{\\delta T_{v W}[\\rho]}{\\delta \\rho} & =\\frac{1}{\\sqrt{\\rho}}\\left(-\\frac{\\nabla^{2}}{2}\\right) \\sqrt{\\rho}\n",
    "\\end{aligned}\n",
    "$$\n",
    "if we rewrite $\\rho = \\phi^2$, we have following:\n",
    "$$\n",
    "\\begin{aligned}\n",
    "L[\\phi] & =E^{O F}[\\phi]-\\mu\\left\\{\\int_{\\Omega} \\phi^{2}(\\boldsymbol{r}) d \\boldsymbol{r}-N\\right\\}\\\\\n",
    "\\frac{\\delta L[\\phi]}{\\delta \\phi} &=\\frac{\\delta E^{O F}[\\rho]}{\\delta \\rho} \\frac{\\delta \\rho}{\\delta \\phi}-2 \\mu \\phi \\\\\n",
    "&=2\\left\\{\\frac{\\delta E[\\rho]}{\\delta \\rho}-\\mu\\right\\} \\phi \\\\\n",
    "&=2\\{H \\phi-\\mu \\phi\\}\\\\\n",
    "H &= \\frac{\\delta T_{v W}[\\rho]}{\\delta \\rho} + \\frac{\\delta T_{\\theta}[\\rho]}{\\delta \\rho} +\\frac{\\delta E_{H}[\\rho]}{\\delta \\rho} + \\frac{\\delta E_{XC}[\\rho]}{\\delta \\rho} + V_{ext}\\\\\n",
    "& = -\\frac{\\lambda}{2} \\nabla^{2} + V_{\\theta} + V_{H} + V_{XC} + V_{ext} \n",
    "\\end{aligned}\n",
    "$$\n",
    "The variational principle requires that $\\delta L/ \\delta \\phi = 0 $, $\\rightarrow$, *$H\\phi = \\mu \\phi$*\n",
    "### Real space representations\n"
   ]
  }
 ],
 "metadata": {
  "language_info": {
   "name": "python"
  },
  "orig_nbformat": 4
 },
 "nbformat": 4,
 "nbformat_minor": 2
}
